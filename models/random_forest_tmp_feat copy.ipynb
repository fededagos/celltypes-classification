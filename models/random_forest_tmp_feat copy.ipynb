{
 "cells": [
  {
   "cell_type": "markdown",
   "metadata": {},
   "source": [
    "# Imports"
   ]
  },
  {
   "cell_type": "code",
   "execution_count": 2,
   "metadata": {},
   "outputs": [],
   "source": [
    "# To make sure we can import h5utils.py from the notebooks folder\n",
    "import sys\n",
    "sys.path.append('../')"
   ]
  },
  {
   "cell_type": "code",
   "execution_count": 3,
   "metadata": {},
   "outputs": [
    {
     "name": "stdout",
     "output_type": "stream",
     "text": [
      "npyx version 2.5.2 imported.\n"
     ]
    }
   ],
   "source": [
    "import os \n",
    "import numpy as np\n",
    "import pandas as pd\n",
    "import seaborn as sns\n",
    "import matplotlib.pyplot as plt\n",
    "import pathlib\n",
    "import optuna\n",
    "import utils.h5_utils as h5\n",
    "import random\n",
    "\n",
    "from pathlib import Path\n",
    "from npyx.feat import filter_df\n",
    "from sklearn import preprocessing\n",
    "from tqdm.auto import tqdm, trange\n",
    "from sklearn.dummy import DummyClassifier\n",
    "from sklearn.metrics import confusion_matrix, f1_score\n",
    "from sklearn.tree import DecisionTreeClassifier\n",
    "from sklearn.model_selection import LeaveOneOut\n",
    "from sklearn.ensemble import RandomForestClassifier, AdaBoostClassifier\n",
    "from imblearn.over_sampling import SMOTE, BorderlineSMOTE, ADASYN, RandomOverSampler\n",
    "\n",
    "from imblearn.under_sampling import RandomUnderSampler\n",
    "from sklearn.semi_supervised import LabelPropagation, LabelSpreading\n",
    "\n",
    "%matplotlib inline\n",
    "%config InlineBackend.figure_format = 'retina'"
   ]
  },
  {
   "cell_type": "code",
   "execution_count": 4,
   "metadata": {},
   "outputs": [],
   "source": [
    "# get relative data folder\n",
    "PATH = os.path.dirname(os.path.abspath(''))\n",
    "data_folder = PATH + '/data'\n",
    "DATA_PATH = data_folder + (\"/Aug-09-2022_all_features.csv\")\n"
   ]
  },
  {
   "cell_type": "code",
   "execution_count": 5,
   "metadata": {},
   "outputs": [
    {
     "name": "stdout",
     "output_type": "stream",
     "text": [
      "Random seed 1234 has been set.\n"
     ]
    },
    {
     "data": {
      "text/plain": [
       "1234"
      ]
     },
     "execution_count": 5,
     "metadata": {},
     "output_type": "execute_result"
    }
   ],
   "source": [
    "SEED = 1234\n",
    "h5.set_seed(SEED)"
   ]
  },
  {
   "cell_type": "code",
   "execution_count": 6,
   "metadata": {},
   "outputs": [],
   "source": [
    "df = pd.read_csv(DATA_PATH, index_col=0)"
   ]
  },
  {
   "cell_type": "code",
   "execution_count": 7,
   "metadata": {},
   "outputs": [],
   "source": [
    "def filter_df(df:pd.DataFrame):\n",
    "    \"\"\"\n",
    "    Filters out datapoints with unusable temporal features.\n",
    "    \"\"\"\n",
    "    features_only = df.iloc[:, 2:]\n",
    "    bad_idx = []\n",
    "    for i, row in features_only.iterrows():\n",
    "        value, count = np.unique(row.to_numpy(), return_counts=True)\n",
    "        zeros = count[value == 0]\n",
    "        if  zeros.size > 0 and zeros > 5:\n",
    "            bad_idx.append(i)\n",
    "    keep = [i for i in range(len(df)) if i not in bad_idx]\n",
    "    return df.iloc[keep]"
   ]
  },
  {
   "cell_type": "code",
   "execution_count": 8,
   "metadata": {},
   "outputs": [],
   "source": [
    "def generate_train_and_labels(df: pd.DataFrame, info_idx = [0, 1 , 2 ,18]):\n",
    "    info = df.iloc[:, info_idx]\n",
    "    features = df.iloc[:, ~np.isin(np.arange(len(df.columns)), info_idx)]\n",
    "    return features.copy(), info.iloc[:, 0].copy()"
   ]
  },
  {
   "cell_type": "code",
   "execution_count": 15,
   "metadata": {},
   "outputs": [],
   "source": [
    "discard_idx = [0, 1 , 2 ,18]+list(range(19, len(df.columns)))\n",
    "X, y = generate_train_and_labels(filter_df(df), info_idx = discard_idx)"
   ]
  },
  {
   "cell_type": "code",
   "execution_count": 33,
   "metadata": {},
   "outputs": [
    {
     "data": {
      "text/html": [
       "<div>\n",
       "<style scoped>\n",
       "    .dataframe tbody tr th:only-of-type {\n",
       "        vertical-align: middle;\n",
       "    }\n",
       "\n",
       "    .dataframe tbody tr th {\n",
       "        vertical-align: top;\n",
       "    }\n",
       "\n",
       "    .dataframe thead th {\n",
       "        text-align: right;\n",
       "    }\n",
       "</style>\n",
       "<table border=\"1\" class=\"dataframe\">\n",
       "  <thead>\n",
       "    <tr style=\"text-align: right;\">\n",
       "      <th></th>\n",
       "      <th>mfr</th>\n",
       "      <th>mifr</th>\n",
       "      <th>med_isi</th>\n",
       "      <th>mode_isi</th>\n",
       "      <th>prct5ISI</th>\n",
       "      <th>entropy</th>\n",
       "      <th>CV2_mean</th>\n",
       "      <th>CV2_median</th>\n",
       "      <th>CV</th>\n",
       "      <th>IR</th>\n",
       "      <th>Lv</th>\n",
       "      <th>LvR</th>\n",
       "      <th>LcV</th>\n",
       "      <th>SI</th>\n",
       "      <th>SKW</th>\n",
       "    </tr>\n",
       "  </thead>\n",
       "  <tbody>\n",
       "    <tr>\n",
       "      <th>0</th>\n",
       "      <td>150.732293</td>\n",
       "      <td>168.887927</td>\n",
       "      <td>0.005733</td>\n",
       "      <td>0.005</td>\n",
       "      <td>0.004200</td>\n",
       "      <td>6.195362</td>\n",
       "      <td>0.271033</td>\n",
       "      <td>0.174497</td>\n",
       "      <td>0.430411</td>\n",
       "      <td>0.281221</td>\n",
       "      <td>0.108944</td>\n",
       "      <td>20.697672</td>\n",
       "      <td>-0.065886</td>\n",
       "      <td>0.008628</td>\n",
       "      <td>2.452598</td>\n",
       "    </tr>\n",
       "    <tr>\n",
       "      <th>1</th>\n",
       "      <td>169.619210</td>\n",
       "      <td>181.015329</td>\n",
       "      <td>0.005400</td>\n",
       "      <td>0.005</td>\n",
       "      <td>0.004200</td>\n",
       "      <td>6.239865</td>\n",
       "      <td>0.200738</td>\n",
       "      <td>0.140468</td>\n",
       "      <td>0.311867</td>\n",
       "      <td>0.204771</td>\n",
       "      <td>0.058696</td>\n",
       "      <td>13.163842</td>\n",
       "      <td>-0.049011</td>\n",
       "      <td>0.004487</td>\n",
       "      <td>2.519771</td>\n",
       "    </tr>\n",
       "    <tr>\n",
       "      <th>2</th>\n",
       "      <td>67.873494</td>\n",
       "      <td>77.598552</td>\n",
       "      <td>0.013433</td>\n",
       "      <td>0.010</td>\n",
       "      <td>0.007767</td>\n",
       "      <td>7.095214</td>\n",
       "      <td>0.360792</td>\n",
       "      <td>0.308903</td>\n",
       "      <td>0.388699</td>\n",
       "      <td>0.373602</td>\n",
       "      <td>0.149873</td>\n",
       "      <td>15.993906</td>\n",
       "      <td>-0.085606</td>\n",
       "      <td>0.011696</td>\n",
       "      <td>1.080671</td>\n",
       "    </tr>\n",
       "    <tr>\n",
       "      <th>3</th>\n",
       "      <td>62.177479</td>\n",
       "      <td>70.185859</td>\n",
       "      <td>0.015133</td>\n",
       "      <td>0.012</td>\n",
       "      <td>0.008433</td>\n",
       "      <td>7.201189</td>\n",
       "      <td>0.336333</td>\n",
       "      <td>0.289767</td>\n",
       "      <td>0.352702</td>\n",
       "      <td>0.346607</td>\n",
       "      <td>0.130289</td>\n",
       "      <td>13.144798</td>\n",
       "      <td>-0.083250</td>\n",
       "      <td>0.010069</td>\n",
       "      <td>0.792209</td>\n",
       "    </tr>\n",
       "    <tr>\n",
       "      <th>4</th>\n",
       "      <td>70.140206</td>\n",
       "      <td>74.991100</td>\n",
       "      <td>0.013900</td>\n",
       "      <td>0.012</td>\n",
       "      <td>0.008767</td>\n",
       "      <td>7.322565</td>\n",
       "      <td>0.250031</td>\n",
       "      <td>0.214112</td>\n",
       "      <td>0.256132</td>\n",
       "      <td>0.254155</td>\n",
       "      <td>0.072520</td>\n",
       "      <td>8.310697</td>\n",
       "      <td>-0.060448</td>\n",
       "      <td>0.005441</td>\n",
       "      <td>0.442617</td>\n",
       "    </tr>\n",
       "    <tr>\n",
       "      <th>...</th>\n",
       "      <td>...</td>\n",
       "      <td>...</td>\n",
       "      <td>...</td>\n",
       "      <td>...</td>\n",
       "      <td>...</td>\n",
       "      <td>...</td>\n",
       "      <td>...</td>\n",
       "      <td>...</td>\n",
       "      <td>...</td>\n",
       "      <td>...</td>\n",
       "      <td>...</td>\n",
       "      <td>...</td>\n",
       "      <td>...</td>\n",
       "      <td>...</td>\n",
       "      <td>...</td>\n",
       "    </tr>\n",
       "    <tr>\n",
       "      <th>79</th>\n",
       "      <td>4.733793</td>\n",
       "      <td>15.349060</td>\n",
       "      <td>0.126367</td>\n",
       "      <td>0.015</td>\n",
       "      <td>0.017700</td>\n",
       "      <td>6.422393</td>\n",
       "      <td>0.888580</td>\n",
       "      <td>0.860718</td>\n",
       "      <td>1.074950</td>\n",
       "      <td>1.109872</td>\n",
       "      <td>0.806791</td>\n",
       "      <td>10.839819</td>\n",
       "      <td>-0.531631</td>\n",
       "      <td>0.088925</td>\n",
       "      <td>1.814136</td>\n",
       "    </tr>\n",
       "    <tr>\n",
       "      <th>80</th>\n",
       "      <td>28.042857</td>\n",
       "      <td>45.032721</td>\n",
       "      <td>0.029367</td>\n",
       "      <td>0.008</td>\n",
       "      <td>0.008767</td>\n",
       "      <td>7.026437</td>\n",
       "      <td>0.710721</td>\n",
       "      <td>0.676760</td>\n",
       "      <td>0.683381</td>\n",
       "      <td>0.804640</td>\n",
       "      <td>0.528052</td>\n",
       "      <td>27.394340</td>\n",
       "      <td>-0.196347</td>\n",
       "      <td>0.048537</td>\n",
       "      <td>1.142575</td>\n",
       "    </tr>\n",
       "    <tr>\n",
       "      <th>81</th>\n",
       "      <td>4.251309</td>\n",
       "      <td>26.590133</td>\n",
       "      <td>0.044967</td>\n",
       "      <td>0.026</td>\n",
       "      <td>0.016267</td>\n",
       "      <td>1.389866</td>\n",
       "      <td>0.708923</td>\n",
       "      <td>0.669056</td>\n",
       "      <td>5.183696</td>\n",
       "      <td>0.877025</td>\n",
       "      <td>0.555724</td>\n",
       "      <td>13.528616</td>\n",
       "      <td>-0.355147</td>\n",
       "      <td>0.065489</td>\n",
       "      <td>7.830272</td>\n",
       "    </tr>\n",
       "    <tr>\n",
       "      <th>82</th>\n",
       "      <td>4.364287</td>\n",
       "      <td>14.242719</td>\n",
       "      <td>0.131433</td>\n",
       "      <td>0.028</td>\n",
       "      <td>0.019128</td>\n",
       "      <td>6.332204</td>\n",
       "      <td>0.848762</td>\n",
       "      <td>0.812496</td>\n",
       "      <td>1.119163</td>\n",
       "      <td>1.038458</td>\n",
       "      <td>0.740980</td>\n",
       "      <td>10.126541</td>\n",
       "      <td>-0.549045</td>\n",
       "      <td>0.079087</td>\n",
       "      <td>1.958817</td>\n",
       "    </tr>\n",
       "    <tr>\n",
       "      <th>83</th>\n",
       "      <td>2.811688</td>\n",
       "      <td>14.950011</td>\n",
       "      <td>0.189017</td>\n",
       "      <td>0.010</td>\n",
       "      <td>0.014533</td>\n",
       "      <td>6.179322</td>\n",
       "      <td>1.005475</td>\n",
       "      <td>1.011964</td>\n",
       "      <td>1.187326</td>\n",
       "      <td>1.352008</td>\n",
       "      <td>1.004294</td>\n",
       "      <td>11.348700</td>\n",
       "      <td>-0.760760</td>\n",
       "      <td>0.124899</td>\n",
       "      <td>1.873491</td>\n",
       "    </tr>\n",
       "  </tbody>\n",
       "</table>\n",
       "<p>77 rows × 15 columns</p>\n",
       "</div>"
      ],
      "text/plain": [
       "           mfr        mifr   med_isi  mode_isi  prct5ISI   entropy  CV2_mean  \\\n",
       "0   150.732293  168.887927  0.005733     0.005  0.004200  6.195362  0.271033   \n",
       "1   169.619210  181.015329  0.005400     0.005  0.004200  6.239865  0.200738   \n",
       "2    67.873494   77.598552  0.013433     0.010  0.007767  7.095214  0.360792   \n",
       "3    62.177479   70.185859  0.015133     0.012  0.008433  7.201189  0.336333   \n",
       "4    70.140206   74.991100  0.013900     0.012  0.008767  7.322565  0.250031   \n",
       "..         ...         ...       ...       ...       ...       ...       ...   \n",
       "79    4.733793   15.349060  0.126367     0.015  0.017700  6.422393  0.888580   \n",
       "80   28.042857   45.032721  0.029367     0.008  0.008767  7.026437  0.710721   \n",
       "81    4.251309   26.590133  0.044967     0.026  0.016267  1.389866  0.708923   \n",
       "82    4.364287   14.242719  0.131433     0.028  0.019128  6.332204  0.848762   \n",
       "83    2.811688   14.950011  0.189017     0.010  0.014533  6.179322  1.005475   \n",
       "\n",
       "    CV2_median        CV        IR        Lv        LvR       LcV        SI  \\\n",
       "0     0.174497  0.430411  0.281221  0.108944  20.697672 -0.065886  0.008628   \n",
       "1     0.140468  0.311867  0.204771  0.058696  13.163842 -0.049011  0.004487   \n",
       "2     0.308903  0.388699  0.373602  0.149873  15.993906 -0.085606  0.011696   \n",
       "3     0.289767  0.352702  0.346607  0.130289  13.144798 -0.083250  0.010069   \n",
       "4     0.214112  0.256132  0.254155  0.072520   8.310697 -0.060448  0.005441   \n",
       "..         ...       ...       ...       ...        ...       ...       ...   \n",
       "79    0.860718  1.074950  1.109872  0.806791  10.839819 -0.531631  0.088925   \n",
       "80    0.676760  0.683381  0.804640  0.528052  27.394340 -0.196347  0.048537   \n",
       "81    0.669056  5.183696  0.877025  0.555724  13.528616 -0.355147  0.065489   \n",
       "82    0.812496  1.119163  1.038458  0.740980  10.126541 -0.549045  0.079087   \n",
       "83    1.011964  1.187326  1.352008  1.004294  11.348700 -0.760760  0.124899   \n",
       "\n",
       "         SKW  \n",
       "0   2.452598  \n",
       "1   2.519771  \n",
       "2   1.080671  \n",
       "3   0.792209  \n",
       "4   0.442617  \n",
       "..       ...  \n",
       "79  1.814136  \n",
       "80  1.142575  \n",
       "81  7.830272  \n",
       "82  1.958817  \n",
       "83  1.873491  \n",
       "\n",
       "[77 rows x 15 columns]"
      ]
     },
     "execution_count": 33,
     "metadata": {},
     "output_type": "execute_result"
    }
   ],
   "source": [
    "X"
   ]
  },
  {
   "cell_type": "code",
   "execution_count": 18,
   "metadata": {},
   "outputs": [],
   "source": [
    "# Converting text labels to numbers\n",
    "LABELLING = {'PkC_cs': 5, 'PkC_ss': 4, 'MFB':3, 'MLI':2, 'GoC':1, 'GrC':0}\n",
    "\n",
    "# To do the inverse\n",
    "CORRESPONDENCE = {5: 'PkC_cs', 4: 'PkC_ss', 3 : 'MFB', 2: 'MLI', 1:'GoC', 0:'GrC'}\n",
    "\n",
    "y.replace(to_replace = LABELLING, inplace = True)"
   ]
  },
  {
   "cell_type": "code",
   "execution_count": 19,
   "metadata": {},
   "outputs": [
    {
     "data": {
      "text/plain": [
       "1    25\n",
       "4    21\n",
       "5    11\n",
       "3     9\n",
       "0     6\n",
       "2     5\n",
       "Name: label, dtype: int64"
      ]
     },
     "execution_count": 19,
     "metadata": {},
     "output_type": "execute_result"
    }
   ],
   "source": [
    "y.value_counts()"
   ]
  },
  {
   "cell_type": "markdown",
   "metadata": {},
   "source": [
    "# Random forest"
   ]
  },
  {
   "cell_type": "code",
   "execution_count": 20,
   "metadata": {},
   "outputs": [],
   "source": [
    "best_params = optuna.load_study(\"random-forest-feat-eng\", f\"sqlite:///{PATH}/random-forest-feat-eng.db\").best_params"
   ]
  },
  {
   "cell_type": "code",
   "execution_count": 21,
   "metadata": {},
   "outputs": [],
   "source": [
    "N_LOOS = 50"
   ]
  },
  {
   "cell_type": "code",
   "execution_count": 22,
   "metadata": {},
   "outputs": [
    {
     "data": {
      "application/vnd.jupyter.widget-view+json": {
       "model_id": "c327909983cd440f871d80d51cd857ea",
       "version_major": 2,
       "version_minor": 0
      },
      "text/plain": [
       "Random Forest runs:   0%|          | 0/50 [00:00<?, ?it/s]"
      ]
     },
     "metadata": {},
     "output_type": "display_data"
    },
    {
     "data": {
      "application/vnd.jupyter.widget-view+json": {
       "model_id": "fba567ad0c1f45f3a07e748175fb6cdd",
       "version_major": 2,
       "version_minor": 0
      },
      "text/plain": [
       "Cross-validating:   0%|          | 0/77 [00:00<?, ?it/s]"
      ]
     },
     "metadata": {},
     "output_type": "display_data"
    },
    {
     "data": {
      "application/vnd.jupyter.widget-view+json": {
       "model_id": "f11fa662733c4ddcb95c746c15f4a2fb",
       "version_major": 2,
       "version_minor": 0
      },
      "text/plain": [
       "Cross-validating:   0%|          | 0/77 [00:00<?, ?it/s]"
      ]
     },
     "metadata": {},
     "output_type": "display_data"
    },
    {
     "data": {
      "application/vnd.jupyter.widget-view+json": {
       "model_id": "daec890ee52a41239f4d1a65b5cc9c2a",
       "version_major": 2,
       "version_minor": 0
      },
      "text/plain": [
       "Cross-validating:   0%|          | 0/77 [00:00<?, ?it/s]"
      ]
     },
     "metadata": {},
     "output_type": "display_data"
    },
    {
     "data": {
      "application/vnd.jupyter.widget-view+json": {
       "model_id": "140452c2bfa94036873905e8161ed922",
       "version_major": 2,
       "version_minor": 0
      },
      "text/plain": [
       "Cross-validating:   0%|          | 0/77 [00:00<?, ?it/s]"
      ]
     },
     "metadata": {},
     "output_type": "display_data"
    },
    {
     "data": {
      "application/vnd.jupyter.widget-view+json": {
       "model_id": "d3ab83be6e5140f48d819c63253add41",
       "version_major": 2,
       "version_minor": 0
      },
      "text/plain": [
       "Cross-validating:   0%|          | 0/77 [00:00<?, ?it/s]"
      ]
     },
     "metadata": {},
     "output_type": "display_data"
    },
    {
     "data": {
      "application/vnd.jupyter.widget-view+json": {
       "model_id": "5da40cf7cffa4ebcb854d2034e03fc9c",
       "version_major": 2,
       "version_minor": 0
      },
      "text/plain": [
       "Cross-validating:   0%|          | 0/77 [00:00<?, ?it/s]"
      ]
     },
     "metadata": {},
     "output_type": "display_data"
    },
    {
     "data": {
      "application/vnd.jupyter.widget-view+json": {
       "model_id": "7a4e785d5d604e21a937e6d0ba8d7dd8",
       "version_major": 2,
       "version_minor": 0
      },
      "text/plain": [
       "Cross-validating:   0%|          | 0/77 [00:00<?, ?it/s]"
      ]
     },
     "metadata": {},
     "output_type": "display_data"
    },
    {
     "data": {
      "application/vnd.jupyter.widget-view+json": {
       "model_id": "ca161f195ac64e3081e0a8a1c538b161",
       "version_major": 2,
       "version_minor": 0
      },
      "text/plain": [
       "Cross-validating:   0%|          | 0/77 [00:00<?, ?it/s]"
      ]
     },
     "metadata": {},
     "output_type": "display_data"
    },
    {
     "data": {
      "application/vnd.jupyter.widget-view+json": {
       "model_id": "55dc67b8996b44b581dc72cd48e72db9",
       "version_major": 2,
       "version_minor": 0
      },
      "text/plain": [
       "Cross-validating:   0%|          | 0/77 [00:00<?, ?it/s]"
      ]
     },
     "metadata": {},
     "output_type": "display_data"
    },
    {
     "data": {
      "application/vnd.jupyter.widget-view+json": {
       "model_id": "d347933ca39c4518b6a3428968afb072",
       "version_major": 2,
       "version_minor": 0
      },
      "text/plain": [
       "Cross-validating:   0%|          | 0/77 [00:00<?, ?it/s]"
      ]
     },
     "metadata": {},
     "output_type": "display_data"
    },
    {
     "data": {
      "application/vnd.jupyter.widget-view+json": {
       "model_id": "dfad7fa63e2b49bdad382744442c5def",
       "version_major": 2,
       "version_minor": 0
      },
      "text/plain": [
       "Cross-validating:   0%|          | 0/77 [00:00<?, ?it/s]"
      ]
     },
     "metadata": {},
     "output_type": "display_data"
    },
    {
     "data": {
      "application/vnd.jupyter.widget-view+json": {
       "model_id": "91214f2e5d984c8c88877e278a95aa31",
       "version_major": 2,
       "version_minor": 0
      },
      "text/plain": [
       "Cross-validating:   0%|          | 0/77 [00:00<?, ?it/s]"
      ]
     },
     "metadata": {},
     "output_type": "display_data"
    },
    {
     "data": {
      "application/vnd.jupyter.widget-view+json": {
       "model_id": "c09ec9447fc54238aa6d681de3485392",
       "version_major": 2,
       "version_minor": 0
      },
      "text/plain": [
       "Cross-validating:   0%|          | 0/77 [00:00<?, ?it/s]"
      ]
     },
     "metadata": {},
     "output_type": "display_data"
    },
    {
     "data": {
      "application/vnd.jupyter.widget-view+json": {
       "model_id": "fd81a3a2a2c24c15a4e4c106942d21af",
       "version_major": 2,
       "version_minor": 0
      },
      "text/plain": [
       "Cross-validating:   0%|          | 0/77 [00:00<?, ?it/s]"
      ]
     },
     "metadata": {},
     "output_type": "display_data"
    },
    {
     "data": {
      "application/vnd.jupyter.widget-view+json": {
       "model_id": "cc6f1c9ea1a14978b3cb1a0cc757f74a",
       "version_major": 2,
       "version_minor": 0
      },
      "text/plain": [
       "Cross-validating:   0%|          | 0/77 [00:00<?, ?it/s]"
      ]
     },
     "metadata": {},
     "output_type": "display_data"
    },
    {
     "data": {
      "application/vnd.jupyter.widget-view+json": {
       "model_id": "0c96e34902764a61a9d859c3470186af",
       "version_major": 2,
       "version_minor": 0
      },
      "text/plain": [
       "Cross-validating:   0%|          | 0/77 [00:00<?, ?it/s]"
      ]
     },
     "metadata": {},
     "output_type": "display_data"
    },
    {
     "data": {
      "application/vnd.jupyter.widget-view+json": {
       "model_id": "45af4a153a6248549515aca46b8c0a2e",
       "version_major": 2,
       "version_minor": 0
      },
      "text/plain": [
       "Cross-validating:   0%|          | 0/77 [00:00<?, ?it/s]"
      ]
     },
     "metadata": {},
     "output_type": "display_data"
    },
    {
     "data": {
      "application/vnd.jupyter.widget-view+json": {
       "model_id": "783ec60e054c4375ace8f09d7075aa8a",
       "version_major": 2,
       "version_minor": 0
      },
      "text/plain": [
       "Cross-validating:   0%|          | 0/77 [00:00<?, ?it/s]"
      ]
     },
     "metadata": {},
     "output_type": "display_data"
    },
    {
     "data": {
      "application/vnd.jupyter.widget-view+json": {
       "model_id": "709b7773674c45d99944139e89b99249",
       "version_major": 2,
       "version_minor": 0
      },
      "text/plain": [
       "Cross-validating:   0%|          | 0/77 [00:00<?, ?it/s]"
      ]
     },
     "metadata": {},
     "output_type": "display_data"
    },
    {
     "data": {
      "application/vnd.jupyter.widget-view+json": {
       "model_id": "2912e699c14047aa957fdddba3572bae",
       "version_major": 2,
       "version_minor": 0
      },
      "text/plain": [
       "Cross-validating:   0%|          | 0/77 [00:00<?, ?it/s]"
      ]
     },
     "metadata": {},
     "output_type": "display_data"
    },
    {
     "data": {
      "application/vnd.jupyter.widget-view+json": {
       "model_id": "85b3a674068a452fbf90a3282ec3a701",
       "version_major": 2,
       "version_minor": 0
      },
      "text/plain": [
       "Cross-validating:   0%|          | 0/77 [00:00<?, ?it/s]"
      ]
     },
     "metadata": {},
     "output_type": "display_data"
    },
    {
     "data": {
      "application/vnd.jupyter.widget-view+json": {
       "model_id": "1c08708663ff4508bb8a6e60b53239d0",
       "version_major": 2,
       "version_minor": 0
      },
      "text/plain": [
       "Cross-validating:   0%|          | 0/77 [00:00<?, ?it/s]"
      ]
     },
     "metadata": {},
     "output_type": "display_data"
    },
    {
     "data": {
      "application/vnd.jupyter.widget-view+json": {
       "model_id": "7fd14485d3764dd088615641fa9036c7",
       "version_major": 2,
       "version_minor": 0
      },
      "text/plain": [
       "Cross-validating:   0%|          | 0/77 [00:00<?, ?it/s]"
      ]
     },
     "metadata": {},
     "output_type": "display_data"
    },
    {
     "data": {
      "application/vnd.jupyter.widget-view+json": {
       "model_id": "011e70ce3fb149fea77a6e01df4d8a27",
       "version_major": 2,
       "version_minor": 0
      },
      "text/plain": [
       "Cross-validating:   0%|          | 0/77 [00:00<?, ?it/s]"
      ]
     },
     "metadata": {},
     "output_type": "display_data"
    },
    {
     "data": {
      "application/vnd.jupyter.widget-view+json": {
       "model_id": "1368d06d192b4f9bb363ba7c0dd9fdd1",
       "version_major": 2,
       "version_minor": 0
      },
      "text/plain": [
       "Cross-validating:   0%|          | 0/77 [00:00<?, ?it/s]"
      ]
     },
     "metadata": {},
     "output_type": "display_data"
    },
    {
     "data": {
      "application/vnd.jupyter.widget-view+json": {
       "model_id": "54f7f1e9d8444709a5c0b23e453466a0",
       "version_major": 2,
       "version_minor": 0
      },
      "text/plain": [
       "Cross-validating:   0%|          | 0/77 [00:00<?, ?it/s]"
      ]
     },
     "metadata": {},
     "output_type": "display_data"
    },
    {
     "data": {
      "application/vnd.jupyter.widget-view+json": {
       "model_id": "a738233c8d314916bad1d7f8cac25677",
       "version_major": 2,
       "version_minor": 0
      },
      "text/plain": [
       "Cross-validating:   0%|          | 0/77 [00:00<?, ?it/s]"
      ]
     },
     "metadata": {},
     "output_type": "display_data"
    },
    {
     "data": {
      "application/vnd.jupyter.widget-view+json": {
       "model_id": "41868fe3659849988a02491f3517ffd8",
       "version_major": 2,
       "version_minor": 0
      },
      "text/plain": [
       "Cross-validating:   0%|          | 0/77 [00:00<?, ?it/s]"
      ]
     },
     "metadata": {},
     "output_type": "display_data"
    },
    {
     "data": {
      "application/vnd.jupyter.widget-view+json": {
       "model_id": "078bcfdaca9f45a2b37e655b116baa8f",
       "version_major": 2,
       "version_minor": 0
      },
      "text/plain": [
       "Cross-validating:   0%|          | 0/77 [00:00<?, ?it/s]"
      ]
     },
     "metadata": {},
     "output_type": "display_data"
    },
    {
     "data": {
      "application/vnd.jupyter.widget-view+json": {
       "model_id": "c53d464cdf9e429fb8988047afbde9ec",
       "version_major": 2,
       "version_minor": 0
      },
      "text/plain": [
       "Cross-validating:   0%|          | 0/77 [00:00<?, ?it/s]"
      ]
     },
     "metadata": {},
     "output_type": "display_data"
    },
    {
     "data": {
      "application/vnd.jupyter.widget-view+json": {
       "model_id": "6c35567541f64a6bac5721a77375b63e",
       "version_major": 2,
       "version_minor": 0
      },
      "text/plain": [
       "Cross-validating:   0%|          | 0/77 [00:00<?, ?it/s]"
      ]
     },
     "metadata": {},
     "output_type": "display_data"
    },
    {
     "data": {
      "application/vnd.jupyter.widget-view+json": {
       "model_id": "32415e423dad46e28967220bea5c1edd",
       "version_major": 2,
       "version_minor": 0
      },
      "text/plain": [
       "Cross-validating:   0%|          | 0/77 [00:00<?, ?it/s]"
      ]
     },
     "metadata": {},
     "output_type": "display_data"
    },
    {
     "data": {
      "application/vnd.jupyter.widget-view+json": {
       "model_id": "7a3df422b3da42a1b5c1e542279d2bcd",
       "version_major": 2,
       "version_minor": 0
      },
      "text/plain": [
       "Cross-validating:   0%|          | 0/77 [00:00<?, ?it/s]"
      ]
     },
     "metadata": {},
     "output_type": "display_data"
    },
    {
     "data": {
      "application/vnd.jupyter.widget-view+json": {
       "model_id": "eede32f18e8b4db396cab9536f690cfe",
       "version_major": 2,
       "version_minor": 0
      },
      "text/plain": [
       "Cross-validating:   0%|          | 0/77 [00:00<?, ?it/s]"
      ]
     },
     "metadata": {},
     "output_type": "display_data"
    },
    {
     "data": {
      "application/vnd.jupyter.widget-view+json": {
       "model_id": "686e55f9ab9b4dcebf54e73c04e3a3b7",
       "version_major": 2,
       "version_minor": 0
      },
      "text/plain": [
       "Cross-validating:   0%|          | 0/77 [00:00<?, ?it/s]"
      ]
     },
     "metadata": {},
     "output_type": "display_data"
    },
    {
     "data": {
      "application/vnd.jupyter.widget-view+json": {
       "model_id": "9c6d4e8d265c45e09e949466334613a9",
       "version_major": 2,
       "version_minor": 0
      },
      "text/plain": [
       "Cross-validating:   0%|          | 0/77 [00:00<?, ?it/s]"
      ]
     },
     "metadata": {},
     "output_type": "display_data"
    },
    {
     "data": {
      "application/vnd.jupyter.widget-view+json": {
       "model_id": "e71d889d5f4a43dbaef980372e567e66",
       "version_major": 2,
       "version_minor": 0
      },
      "text/plain": [
       "Cross-validating:   0%|          | 0/77 [00:00<?, ?it/s]"
      ]
     },
     "metadata": {},
     "output_type": "display_data"
    },
    {
     "data": {
      "application/vnd.jupyter.widget-view+json": {
       "model_id": "65b69bb3ede4438a9252b14fc6f4407b",
       "version_major": 2,
       "version_minor": 0
      },
      "text/plain": [
       "Cross-validating:   0%|          | 0/77 [00:00<?, ?it/s]"
      ]
     },
     "metadata": {},
     "output_type": "display_data"
    },
    {
     "data": {
      "application/vnd.jupyter.widget-view+json": {
       "model_id": "f12f455928744039a553c53eac22fdda",
       "version_major": 2,
       "version_minor": 0
      },
      "text/plain": [
       "Cross-validating:   0%|          | 0/77 [00:00<?, ?it/s]"
      ]
     },
     "metadata": {},
     "output_type": "display_data"
    },
    {
     "data": {
      "application/vnd.jupyter.widget-view+json": {
       "model_id": "c5e931b178824d5ca390ae5cc2d3eae1",
       "version_major": 2,
       "version_minor": 0
      },
      "text/plain": [
       "Cross-validating:   0%|          | 0/77 [00:00<?, ?it/s]"
      ]
     },
     "metadata": {},
     "output_type": "display_data"
    },
    {
     "data": {
      "application/vnd.jupyter.widget-view+json": {
       "model_id": "1c56dd8fabdf414c9e1d102158dc19d0",
       "version_major": 2,
       "version_minor": 0
      },
      "text/plain": [
       "Cross-validating:   0%|          | 0/77 [00:00<?, ?it/s]"
      ]
     },
     "metadata": {},
     "output_type": "display_data"
    },
    {
     "data": {
      "application/vnd.jupyter.widget-view+json": {
       "model_id": "726e6f67521f44c98695919f115a406e",
       "version_major": 2,
       "version_minor": 0
      },
      "text/plain": [
       "Cross-validating:   0%|          | 0/77 [00:00<?, ?it/s]"
      ]
     },
     "metadata": {},
     "output_type": "display_data"
    },
    {
     "data": {
      "application/vnd.jupyter.widget-view+json": {
       "model_id": "7560f6dc006b444994f4d6d4d7e3233e",
       "version_major": 2,
       "version_minor": 0
      },
      "text/plain": [
       "Cross-validating:   0%|          | 0/77 [00:00<?, ?it/s]"
      ]
     },
     "metadata": {},
     "output_type": "display_data"
    },
    {
     "data": {
      "application/vnd.jupyter.widget-view+json": {
       "model_id": "2bfb63b0579b45d88ac7f90aa994fc51",
       "version_major": 2,
       "version_minor": 0
      },
      "text/plain": [
       "Cross-validating:   0%|          | 0/77 [00:00<?, ?it/s]"
      ]
     },
     "metadata": {},
     "output_type": "display_data"
    },
    {
     "data": {
      "application/vnd.jupyter.widget-view+json": {
       "model_id": "3c249c19c3734ca189b9d0ed4f2e5772",
       "version_major": 2,
       "version_minor": 0
      },
      "text/plain": [
       "Cross-validating:   0%|          | 0/77 [00:00<?, ?it/s]"
      ]
     },
     "metadata": {},
     "output_type": "display_data"
    },
    {
     "data": {
      "application/vnd.jupyter.widget-view+json": {
       "model_id": "1c420d4b629c425688889c8b1a6a6752",
       "version_major": 2,
       "version_minor": 0
      },
      "text/plain": [
       "Cross-validating:   0%|          | 0/77 [00:00<?, ?it/s]"
      ]
     },
     "metadata": {},
     "output_type": "display_data"
    },
    {
     "data": {
      "application/vnd.jupyter.widget-view+json": {
       "model_id": "c39b6222f9544a0b8eeca8e8ff108045",
       "version_major": 2,
       "version_minor": 0
      },
      "text/plain": [
       "Cross-validating:   0%|          | 0/77 [00:00<?, ?it/s]"
      ]
     },
     "metadata": {},
     "output_type": "display_data"
    },
    {
     "data": {
      "application/vnd.jupyter.widget-view+json": {
       "model_id": "7587dab428494f2db440458aaa0b229d",
       "version_major": 2,
       "version_minor": 0
      },
      "text/plain": [
       "Cross-validating:   0%|          | 0/77 [00:00<?, ?it/s]"
      ]
     },
     "metadata": {},
     "output_type": "display_data"
    },
    {
     "data": {
      "application/vnd.jupyter.widget-view+json": {
       "model_id": "077376f83d1a4003ad6f13f404585f23",
       "version_major": 2,
       "version_minor": 0
      },
      "text/plain": [
       "Cross-validating:   0%|          | 0/77 [00:00<?, ?it/s]"
      ]
     },
     "metadata": {},
     "output_type": "display_data"
    },
    {
     "data": {
      "application/vnd.jupyter.widget-view+json": {
       "model_id": "db299ba8e90f4d118ca9804783d34e93",
       "version_major": 2,
       "version_minor": 0
      },
      "text/plain": [
       "Cross-validating:   0%|          | 0/77 [00:00<?, ?it/s]"
      ]
     },
     "metadata": {},
     "output_type": "display_data"
    },
    {
     "name": "stdout",
     "output_type": "stream",
     "text": [
      "Mean train accuracy is 0.949 while LOO accuracy is 0.597\n",
      "Dummy LOO accuracy is 0.182 \n",
      "Mean LOO f1 score across random forests is 0.515\n"
     ]
    }
   ],
   "source": [
    "kfold = LeaveOneOut()\n",
    "\n",
    "f1_scores = []\n",
    "confusions_list = []\n",
    "\n",
    "for loo in tqdm(range(N_LOOS), position = 0, leave = True, desc = \"Random Forest runs\"):\n",
    "    \n",
    "    train_accuracies = []\n",
    "    true_targets = []\n",
    "    model_pred = []\n",
    "    dummy_pred = []\n",
    "    seed = np.random.choice(2**32)\n",
    "    for fold, (train_idx, val_idx) in tqdm(\n",
    "        enumerate(kfold.split(X, y)),\n",
    "        leave=False,\n",
    "        position=1,\n",
    "        desc=\"Cross-validating\",\n",
    "        total=len(X),\n",
    "    ):\n",
    "\n",
    "        X_train = X.iloc[train_idx]\n",
    "        y_train = y.iloc[train_idx]\n",
    "        X_test = X.iloc[val_idx]\n",
    "        y_test = y.iloc[val_idx]\n",
    "\n",
    "        oversample = RandomOverSampler(random_state=seed)\n",
    "\n",
    "        X_big, y_big = oversample.fit_resample(X_train, y_train)\n",
    "\n",
    "        model = RandomForestClassifier(**best_params, random_state=seed)\n",
    "\n",
    "        # fit the model on the data\n",
    "        model.fit(X_big, y_big)\n",
    "        pred = model.predict(X_test)\n",
    "        train_accuracies.append(model.score(X_train, y_train))\n",
    "\n",
    "        true_targets.append(y_test)\n",
    "        model_pred.append(pred)\n",
    "        \n",
    "\n",
    "        ####### Now doing something similar with a Dummy Classifier so that we can plot a baseline #########\n",
    "        dummy = DummyClassifier(strategy=\"uniform\")\n",
    "        # fit the model on the data\n",
    "        dummy.fit(X_big, y_big)\n",
    "        pred = dummy.predict(X_test)\n",
    "\n",
    "        dummy_pred.append(pred)\n",
    "        \n",
    "    confusion = confusion_matrix(true_targets, model_pred, labels=np.arange(0, 6))\n",
    "    confusions_list.append(confusion)\n",
    "    f1 = f1_score(true_targets, model_pred, average='macro')\n",
    "    f1_scores.append(f1)\n",
    "\n",
    "\n",
    "\n",
    "mean_train = np.array(train_accuracies).mean()\n",
    "mean_validation = (np.array(true_targets)==np.array(model_pred)).mean()\n",
    "mean_dummy = (np.array(true_targets)==np.array(dummy_pred)).mean()\n",
    "print(\n",
    "f\"Mean train accuracy is {mean_train:.3f} while LOO accuracy is {mean_validation:.3f}\"\n",
    ")\n",
    "print(f\"Dummy LOO accuracy is {mean_dummy:.3f} \")\n",
    "print(f\"Mean LOO f1 score across random forests is {np.array(f1_scores).mean():.3f}\")\n"
   ]
  },
  {
   "cell_type": "code",
   "execution_count": 23,
   "metadata": {},
   "outputs": [
    {
     "data": {
      "text/plain": [
       "(77, 15)"
      ]
     },
     "execution_count": 23,
     "metadata": {},
     "output_type": "execute_result"
    }
   ],
   "source": [
    "X.to_numpy().shape"
   ]
  },
  {
   "cell_type": "code",
   "execution_count": 24,
   "metadata": {},
   "outputs": [
    {
     "data": {
      "text/plain": [
       "0.5559530334724133"
      ]
     },
     "execution_count": 24,
     "metadata": {},
     "output_type": "execute_result"
    }
   ],
   "source": [
    "max(f1_scores)"
   ]
  },
  {
   "cell_type": "code",
   "execution_count": 25,
   "metadata": {},
   "outputs": [
    {
     "data": {
      "text/plain": [
       "0.012608247946477595"
      ]
     },
     "execution_count": 25,
     "metadata": {},
     "output_type": "execute_result"
    }
   ],
   "source": [
    "np.array(train_accuracies).std()"
   ]
  },
  {
   "cell_type": "code",
   "execution_count": 26,
   "metadata": {},
   "outputs": [
    {
     "data": {
      "text/plain": [
       "[0.523678106227324,\n",
       " 0.553968253968254,\n",
       " 0.5025979756813765,\n",
       " 0.5045836516424752,\n",
       " 0.5519980922419947,\n",
       " 0.523678106227324,\n",
       " 0.4729851708575113,\n",
       " 0.510141548666126,\n",
       " 0.5228787878787879,\n",
       " 0.5200523481653135,\n",
       " 0.5232651116618118,\n",
       " 0.5424630924630924,\n",
       " 0.471010471010471,\n",
       " 0.5340781767252355,\n",
       " 0.49815610998921533,\n",
       " 0.5302657215105916,\n",
       " 0.5402283706631533,\n",
       " 0.5222384606016319,\n",
       " 0.49124045888751766,\n",
       " 0.5021611463471929,\n",
       " 0.523849104859335,\n",
       " 0.48482171612606395,\n",
       " 0.5559530334724133,\n",
       " 0.4942279942279943,\n",
       " 0.5089149589833585,\n",
       " 0.5406141244376539,\n",
       " 0.5243539224481809,\n",
       " 0.4736781062273241,\n",
       " 0.5079523000179634,\n",
       " 0.5265519547002654,\n",
       " 0.5035353535353536,\n",
       " 0.546441520590163,\n",
       " 0.490169375087687,\n",
       " 0.5213671818575761,\n",
       " 0.5335879806468041,\n",
       " 0.5455873218488401,\n",
       " 0.5045836516424752,\n",
       " 0.4929902755394934,\n",
       " 0.48340421889461327,\n",
       " 0.5304545454545455,\n",
       " 0.4839019911029117,\n",
       " 0.4929902755394934,\n",
       " 0.5289068643972586,\n",
       " 0.5185429127289592,\n",
       " 0.48400890521358525,\n",
       " 0.5145644607691408,\n",
       " 0.5374499714122355,\n",
       " 0.5267617513994326,\n",
       " 0.5335370511841101,\n",
       " 0.48672647803082586]"
      ]
     },
     "execution_count": 26,
     "metadata": {},
     "output_type": "execute_result"
    }
   ],
   "source": [
    "f1_scores"
   ]
  },
  {
   "cell_type": "code",
   "execution_count": 27,
   "metadata": {},
   "outputs": [
    {
     "data": {
      "text/plain": [
       "0.022491197378393876"
      ]
     },
     "execution_count": 27,
     "metadata": {},
     "output_type": "execute_result"
    }
   ],
   "source": [
    "np.array(f1_scores).std()"
   ]
  },
  {
   "cell_type": "markdown",
   "metadata": {},
   "source": [
    "# Accuracy plots"
   ]
  },
  {
   "cell_type": "markdown",
   "metadata": {},
   "source": [
    "# Confusion matrix"
   ]
  },
  {
   "cell_type": "code",
   "execution_count": 28,
   "metadata": {},
   "outputs": [],
   "source": [
    "mean_confusion = confusion_matrix(true_targets, model_pred, labels=np.arange(0, len(LABELLING.keys())))\n",
    "mean_confusion = mean_confusion / (np.sum(mean_confusion, axis = 0)) * 100 # normalising and showing percentage\n",
    "mask = ~(np.eye(mean_confusion.shape[0]).astype(bool))"
   ]
  },
  {
   "cell_type": "code",
   "execution_count": 29,
   "metadata": {},
   "outputs": [
    {
     "data": {
      "image/png": "[encoded data removed]",
      "text/plain": [
       "<Figure size 720x648 with 2 Axes>"
      ]
     },
     "metadata": {
      "image/png": {
       "height": 521,
       "width": 574
      },
      "needs_background": "light"
     },
     "output_type": "display_data"
    }
   ],
   "source": [
    "# Confusion matrix\n",
    "import seaborn as sns\n",
    "import matplotlib\n",
    "matplotlib.rcParams['pdf.fonttype'] = 42 # necessary to make the text editable\n",
    "matplotlib.rcParams['ps.fonttype'] = 42\n",
    "\n",
    "fig, ax = plt.subplots(figsize=(10, 9))\n",
    "ax = sns.heatmap(\n",
    "    mean_confusion,\n",
    "    annot=mean_confusion,\n",
    "    cmap=\"viridis\",\n",
    "    cbar=False,\n",
    "    mask=mask,\n",
    "    linewidths=10,\n",
    "    linecolor=\"black\",\n",
    "    square=True,\n",
    "    vmin=0,\n",
    "    vmax=100,\n",
    "    annot_kws={\"fontsize\": 12, \"fontweight\": \"bold\"},\n",
    ")\n",
    "ax = sns.heatmap(\n",
    "    mean_confusion,\n",
    "    annot=mean_confusion,\n",
    "    cmap=\"viridis\",\n",
    "    square=True,\n",
    "    vmin=0,\n",
    "    vmax=100,\n",
    "    mask=~mask,\n",
    "    linewidths=1,\n",
    "    linecolor=\"black\",\n",
    "    annot_kws={\"fontsize\": 11},\n",
    ")\n",
    "x_labels = [int(ax.get_xticklabels()[i].get_text()) for i in range(6)]\n",
    "y_labels = [int(ax.get_yticklabels()[i].get_text()) for i in range(6)]\n",
    "\n",
    "ax.set_xticklabels(\n",
    "    pd.Series(x_labels).replace(to_replace=CORRESPONDENCE).to_numpy(),\n",
    "    fontsize=12,\n",
    ")\n",
    "ax.set_yticklabels(\n",
    "    pd.Series(y_labels).replace(to_replace=CORRESPONDENCE).to_numpy(),\n",
    "    fontsize=12,\n",
    ")\n",
    "ax.set_title(\"Mean confusion matrix\", fontsize=15, fontweight=\"bold\")\n",
    "ax.set_xlabel(\"True label\", fontsize=12)\n",
    "ax.set_ylabel(\"Predicted label\", fontsize=12);\n"
   ]
  },
  {
   "cell_type": "code",
   "execution_count": null,
   "metadata": {},
   "outputs": [],
   "source": []
  }
 ],
 "metadata": {
  "kernelspec": {
   "display_name": "Python 3.7.13 ('npyx')",
   "language": "python",
   "name": "python3"
  },
  "language_info": {
   "codemirror_mode": {
    "name": "ipython",
    "version": 3
   },
   "file_extension": ".py",
   "mimetype": "text/x-python",
   "name": "python",
   "nbconvert_exporter": "python",
   "pygments_lexer": "ipython3",
   "version": "3.7.13"
  },
  "orig_nbformat": 4,
  "vscode": {
   "interpreter": {
    "hash": "743d2decec6617858aa5d9734ccd05c067783e7d57d927118b59dc2a82c0065b"
   }
  }
 },
 "nbformat": 4,
 "nbformat_minor": 2
}
