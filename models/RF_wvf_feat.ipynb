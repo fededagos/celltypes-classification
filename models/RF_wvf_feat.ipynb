{
 "cells": [
  {
   "cell_type": "markdown",
   "metadata": {},
   "source": [
    "# Imports"
   ]
  },
  {
   "cell_type": "code",
   "execution_count": 1,
   "metadata": {},
   "outputs": [],
   "source": [
    "# To make sure we can import h5utils.py from the notebooks folder\n",
    "import sys\n",
    "sys.path.append('../')"
   ]
  },
  {
   "cell_type": "code",
   "execution_count": 2,
   "metadata": {},
   "outputs": [
    {
     "name": "stdout",
     "output_type": "stream",
     "text": [
      "npyx version 2.5.2 imported.\n"
     ]
    }
   ],
   "source": [
    "import os \n",
    "import numpy as np\n",
    "import pandas as pd\n",
    "import seaborn as sns\n",
    "import matplotlib.pyplot as plt\n",
    "import pathlib\n",
    "import optuna\n",
    "import utils.h5_utils as h5\n",
    "import random\n",
    "\n",
    "from pathlib import Path\n",
    "from npyx.feat import filter_df\n",
    "from sklearn import preprocessing\n",
    "from tqdm.auto import tqdm, trange\n",
    "from sklearn.dummy import DummyClassifier\n",
    "from sklearn.metrics import confusion_matrix, f1_score\n",
    "from sklearn.tree import DecisionTreeClassifier\n",
    "from sklearn.model_selection import LeaveOneOut\n",
    "from sklearn.ensemble import RandomForestClassifier, AdaBoostClassifier\n",
    "from imblearn.over_sampling import SMOTE, BorderlineSMOTE, ADASYN, RandomOverSampler\n",
    "\n",
    "from imblearn.under_sampling import RandomUnderSampler\n",
    "from sklearn.semi_supervised import LabelPropagation, LabelSpreading\n",
    "\n",
    "%matplotlib inline\n",
    "%config InlineBackend.figure_format = 'retina'"
   ]
  },
  {
   "cell_type": "code",
   "execution_count": 3,
   "metadata": {},
   "outputs": [],
   "source": [
    "# get relative data folder\n",
    "PATH = os.path.dirname(os.path.abspath(''))\n",
    "data_folder = PATH + '/data'\n",
    "DATA_PATH = data_folder + (\"/Aug-09-2022_all_features.csv\")\n"
   ]
  },
  {
   "cell_type": "code",
   "execution_count": 4,
   "metadata": {},
   "outputs": [
    {
     "name": "stdout",
     "output_type": "stream",
     "text": [
      "Random seed 1234 has been set.\n"
     ]
    },
    {
     "data": {
      "text/plain": [
       "1234"
      ]
     },
     "execution_count": 4,
     "metadata": {},
     "output_type": "execute_result"
    }
   ],
   "source": [
    "SEED = 1234\n",
    "h5.set_seed(SEED)"
   ]
  },
  {
   "cell_type": "code",
   "execution_count": 5,
   "metadata": {},
   "outputs": [],
   "source": [
    "df = pd.read_csv(DATA_PATH, index_col=0)"
   ]
  },
  {
   "cell_type": "code",
   "execution_count": 6,
   "metadata": {},
   "outputs": [],
   "source": [
    "def filter_df(df:pd.DataFrame):\n",
    "    \"\"\"\n",
    "    Filters out datapoints with unusable temporal features.\n",
    "    \"\"\"\n",
    "    features_only = df.iloc[:, 2:]\n",
    "    bad_idx = []\n",
    "    for i, row in features_only.iterrows():\n",
    "        value, count = np.unique(row.to_numpy(), return_counts=True)\n",
    "        zeros = count[value == 0]\n",
    "        if  zeros.size > 0 and zeros > 5:\n",
    "            bad_idx.append(i)\n",
    "    keep = [i for i in range(len(df)) if i not in bad_idx]\n",
    "    return df.iloc[keep]"
   ]
  },
  {
   "cell_type": "code",
   "execution_count": 7,
   "metadata": {},
   "outputs": [],
   "source": [
    "def generate_train_and_labels(df: pd.DataFrame, info_idx = [0, 1 , 2 ,18]):\n",
    "    info = df.iloc[:, info_idx]\n",
    "    features = df.iloc[:, ~np.isin(np.arange(len(df.columns)), info_idx)]\n",
    "    return features.copy(), info.iloc[:, 0].copy()"
   ]
  },
  {
   "cell_type": "code",
   "execution_count": 8,
   "metadata": {},
   "outputs": [],
   "source": [
    "discard_idx = [0, 1 , 2 ,18]+list(range(3, 18))\n",
    "X, y = generate_train_and_labels(filter_df(df), info_idx = discard_idx)"
   ]
  },
  {
   "cell_type": "code",
   "execution_count": 9,
   "metadata": {},
   "outputs": [
    {
     "data": {
      "text/html": [
       "<div>\n",
       "<style scoped>\n",
       "    .dataframe tbody tr th:only-of-type {\n",
       "        vertical-align: middle;\n",
       "    }\n",
       "\n",
       "    .dataframe tbody tr th {\n",
       "        vertical-align: top;\n",
       "    }\n",
       "\n",
       "    .dataframe thead th {\n",
       "        text-align: right;\n",
       "    }\n",
       "</style>\n",
       "<table border=\"1\" class=\"dataframe\">\n",
       "  <thead>\n",
       "    <tr style=\"text-align: right;\">\n",
       "      <th></th>\n",
       "      <th>trough_voltage</th>\n",
       "      <th>trough_t</th>\n",
       "      <th>peak_voltage</th>\n",
       "      <th>peak_t</th>\n",
       "      <th>repolarisation_t</th>\n",
       "      <th>depolarisation_t</th>\n",
       "      <th>peak_50_width</th>\n",
       "      <th>trough_50_width</th>\n",
       "      <th>onset_t</th>\n",
       "      <th>onset_amp</th>\n",
       "      <th>wvf_width</th>\n",
       "      <th>peak_trough_ratio</th>\n",
       "      <th>recovery_slope</th>\n",
       "      <th>repolarisation_slope</th>\n",
       "      <th>depolarisation_slope</th>\n",
       "      <th>spatial_decay_24um</th>\n",
       "      <th>dendritic_comp_amp</th>\n",
       "    </tr>\n",
       "  </thead>\n",
       "  <tbody>\n",
       "    <tr>\n",
       "      <th>0</th>\n",
       "      <td>-318.603741</td>\n",
       "      <td>4150</td>\n",
       "      <td>307.640664</td>\n",
       "      <td>4858</td>\n",
       "      <td>249</td>\n",
       "      <td>369</td>\n",
       "      <td>783</td>\n",
       "      <td>354</td>\n",
       "      <td>3696</td>\n",
       "      <td>-15.930187</td>\n",
       "      <td>708</td>\n",
       "      <td>0.965590</td>\n",
       "      <td>-0.110271</td>\n",
       "      <td>0.422205</td>\n",
       "      <td>-0.279495</td>\n",
       "      <td>224.472656</td>\n",
       "      <td>1.034460</td>\n",
       "    </tr>\n",
       "    <tr>\n",
       "      <th>1</th>\n",
       "      <td>-307.140140</td>\n",
       "      <td>4150</td>\n",
       "      <td>275.485816</td>\n",
       "      <td>4858</td>\n",
       "      <td>243</td>\n",
       "      <td>317</td>\n",
       "      <td>779</td>\n",
       "      <td>354</td>\n",
       "      <td>11</td>\n",
       "      <td>-15.357007</td>\n",
       "      <td>708</td>\n",
       "      <td>0.896938</td>\n",
       "      <td>-0.101313</td>\n",
       "      <td>0.390629</td>\n",
       "      <td>-0.259964</td>\n",
       "      <td>250.253906</td>\n",
       "      <td>0.825570</td>\n",
       "    </tr>\n",
       "    <tr>\n",
       "      <th>2</th>\n",
       "      <td>-164.509510</td>\n",
       "      <td>4150</td>\n",
       "      <td>159.654784</td>\n",
       "      <td>4758</td>\n",
       "      <td>219</td>\n",
       "      <td>440</td>\n",
       "      <td>788</td>\n",
       "      <td>374</td>\n",
       "      <td>3581</td>\n",
       "      <td>-8.225476</td>\n",
       "      <td>608</td>\n",
       "      <td>0.970490</td>\n",
       "      <td>-0.107239</td>\n",
       "      <td>0.446767</td>\n",
       "      <td>-0.189874</td>\n",
       "      <td>230.332031</td>\n",
       "      <td>0.900092</td>\n",
       "    </tr>\n",
       "    <tr>\n",
       "      <th>3</th>\n",
       "      <td>-391.026195</td>\n",
       "      <td>3543</td>\n",
       "      <td>467.397649</td>\n",
       "      <td>4150</td>\n",
       "      <td>230</td>\n",
       "      <td>280</td>\n",
       "      <td>758</td>\n",
       "      <td>439</td>\n",
       "      <td>3141</td>\n",
       "      <td>-19.551310</td>\n",
       "      <td>607</td>\n",
       "      <td>1.195310</td>\n",
       "      <td>-0.098358</td>\n",
       "      <td>0.340348</td>\n",
       "      <td>-0.111963</td>\n",
       "      <td>216.503906</td>\n",
       "      <td>0.730440</td>\n",
       "    </tr>\n",
       "    <tr>\n",
       "      <th>4</th>\n",
       "      <td>-320.123769</td>\n",
       "      <td>4150</td>\n",
       "      <td>277.216615</td>\n",
       "      <td>4859</td>\n",
       "      <td>263</td>\n",
       "      <td>235</td>\n",
       "      <td>760</td>\n",
       "      <td>348</td>\n",
       "      <td>22</td>\n",
       "      <td>-16.006188</td>\n",
       "      <td>709</td>\n",
       "      <td>0.865967</td>\n",
       "      <td>-0.096014</td>\n",
       "      <td>0.364638</td>\n",
       "      <td>-0.318373</td>\n",
       "      <td>597.480469</td>\n",
       "      <td>0.777856</td>\n",
       "    </tr>\n",
       "    <tr>\n",
       "      <th>...</th>\n",
       "      <td>...</td>\n",
       "      <td>...</td>\n",
       "      <td>...</td>\n",
       "      <td>...</td>\n",
       "      <td>...</td>\n",
       "      <td>...</td>\n",
       "      <td>...</td>\n",
       "      <td>...</td>\n",
       "      <td>...</td>\n",
       "      <td>...</td>\n",
       "      <td>...</td>\n",
       "      <td>...</td>\n",
       "      <td>...</td>\n",
       "      <td>...</td>\n",
       "      <td>...</td>\n",
       "      <td>...</td>\n",
       "      <td>...</td>\n",
       "    </tr>\n",
       "    <tr>\n",
       "      <th>79</th>\n",
       "      <td>-125.948777</td>\n",
       "      <td>4150</td>\n",
       "      <td>54.371784</td>\n",
       "      <td>4758</td>\n",
       "      <td>188</td>\n",
       "      <td>234</td>\n",
       "      <td>1201</td>\n",
       "      <td>323</td>\n",
       "      <td>50</td>\n",
       "      <td>-6.297439</td>\n",
       "      <td>608</td>\n",
       "      <td>0.431698</td>\n",
       "      <td>-0.012354</td>\n",
       "      <td>0.393738</td>\n",
       "      <td>-0.280353</td>\n",
       "      <td>122.636719</td>\n",
       "      <td>5.888535</td>\n",
       "    </tr>\n",
       "    <tr>\n",
       "      <th>80</th>\n",
       "      <td>-79.130827</td>\n",
       "      <td>4151</td>\n",
       "      <td>44.111768</td>\n",
       "      <td>4758</td>\n",
       "      <td>181</td>\n",
       "      <td>312</td>\n",
       "      <td>1019</td>\n",
       "      <td>338</td>\n",
       "      <td>75</td>\n",
       "      <td>-3.956541</td>\n",
       "      <td>607</td>\n",
       "      <td>0.557454</td>\n",
       "      <td>-0.035949</td>\n",
       "      <td>0.337329</td>\n",
       "      <td>-0.381563</td>\n",
       "      <td>46.171875</td>\n",
       "      <td>1.627548</td>\n",
       "    </tr>\n",
       "    <tr>\n",
       "      <th>81</th>\n",
       "      <td>-72.331251</td>\n",
       "      <td>4150</td>\n",
       "      <td>29.178916</td>\n",
       "      <td>5365</td>\n",
       "      <td>423</td>\n",
       "      <td>169</td>\n",
       "      <td>929</td>\n",
       "      <td>316</td>\n",
       "      <td>3943</td>\n",
       "      <td>-3.616563</td>\n",
       "      <td>1215</td>\n",
       "      <td>0.403407</td>\n",
       "      <td>-0.038293</td>\n",
       "      <td>0.201941</td>\n",
       "      <td>-0.442478</td>\n",
       "      <td>68.261719</td>\n",
       "      <td>4.352540</td>\n",
       "    </tr>\n",
       "    <tr>\n",
       "      <th>82</th>\n",
       "      <td>-73.510522</td>\n",
       "      <td>4150</td>\n",
       "      <td>59.521795</td>\n",
       "      <td>4657</td>\n",
       "      <td>184</td>\n",
       "      <td>182</td>\n",
       "      <td>525</td>\n",
       "      <td>313</td>\n",
       "      <td>3904</td>\n",
       "      <td>-3.675526</td>\n",
       "      <td>507</td>\n",
       "      <td>0.809704</td>\n",
       "      <td>-0.112040</td>\n",
       "      <td>0.375486</td>\n",
       "      <td>-0.389621</td>\n",
       "      <td>85.839844</td>\n",
       "      <td>12.297384</td>\n",
       "    </tr>\n",
       "    <tr>\n",
       "      <th>83</th>\n",
       "      <td>-64.649938</td>\n",
       "      <td>4151</td>\n",
       "      <td>14.410525</td>\n",
       "      <td>5061</td>\n",
       "      <td>331</td>\n",
       "      <td>133</td>\n",
       "      <td>1019</td>\n",
       "      <td>324</td>\n",
       "      <td>14</td>\n",
       "      <td>-3.232497</td>\n",
       "      <td>910</td>\n",
       "      <td>0.222901</td>\n",
       "      <td>-0.010380</td>\n",
       "      <td>0.246957</td>\n",
       "      <td>-0.594651</td>\n",
       "      <td>37.792969</td>\n",
       "      <td>21.980523</td>\n",
       "    </tr>\n",
       "  </tbody>\n",
       "</table>\n",
       "<p>77 rows × 17 columns</p>\n",
       "</div>"
      ],
      "text/plain": [
       "    trough_voltage  trough_t  peak_voltage  peak_t  repolarisation_t  \\\n",
       "0      -318.603741      4150    307.640664    4858               249   \n",
       "1      -307.140140      4150    275.485816    4858               243   \n",
       "2      -164.509510      4150    159.654784    4758               219   \n",
       "3      -391.026195      3543    467.397649    4150               230   \n",
       "4      -320.123769      4150    277.216615    4859               263   \n",
       "..             ...       ...           ...     ...               ...   \n",
       "79     -125.948777      4150     54.371784    4758               188   \n",
       "80      -79.130827      4151     44.111768    4758               181   \n",
       "81      -72.331251      4150     29.178916    5365               423   \n",
       "82      -73.510522      4150     59.521795    4657               184   \n",
       "83      -64.649938      4151     14.410525    5061               331   \n",
       "\n",
       "    depolarisation_t  peak_50_width  trough_50_width  onset_t  onset_amp  \\\n",
       "0                369            783              354     3696 -15.930187   \n",
       "1                317            779              354       11 -15.357007   \n",
       "2                440            788              374     3581  -8.225476   \n",
       "3                280            758              439     3141 -19.551310   \n",
       "4                235            760              348       22 -16.006188   \n",
       "..               ...            ...              ...      ...        ...   \n",
       "79               234           1201              323       50  -6.297439   \n",
       "80               312           1019              338       75  -3.956541   \n",
       "81               169            929              316     3943  -3.616563   \n",
       "82               182            525              313     3904  -3.675526   \n",
       "83               133           1019              324       14  -3.232497   \n",
       "\n",
       "    wvf_width  peak_trough_ratio  recovery_slope  repolarisation_slope  \\\n",
       "0         708           0.965590       -0.110271              0.422205   \n",
       "1         708           0.896938       -0.101313              0.390629   \n",
       "2         608           0.970490       -0.107239              0.446767   \n",
       "3         607           1.195310       -0.098358              0.340348   \n",
       "4         709           0.865967       -0.096014              0.364638   \n",
       "..        ...                ...             ...                   ...   \n",
       "79        608           0.431698       -0.012354              0.393738   \n",
       "80        607           0.557454       -0.035949              0.337329   \n",
       "81       1215           0.403407       -0.038293              0.201941   \n",
       "82        507           0.809704       -0.112040              0.375486   \n",
       "83        910           0.222901       -0.010380              0.246957   \n",
       "\n",
       "    depolarisation_slope  spatial_decay_24um  dendritic_comp_amp  \n",
       "0              -0.279495          224.472656            1.034460  \n",
       "1              -0.259964          250.253906            0.825570  \n",
       "2              -0.189874          230.332031            0.900092  \n",
       "3              -0.111963          216.503906            0.730440  \n",
       "4              -0.318373          597.480469            0.777856  \n",
       "..                   ...                 ...                 ...  \n",
       "79             -0.280353          122.636719            5.888535  \n",
       "80             -0.381563           46.171875            1.627548  \n",
       "81             -0.442478           68.261719            4.352540  \n",
       "82             -0.389621           85.839844           12.297384  \n",
       "83             -0.594651           37.792969           21.980523  \n",
       "\n",
       "[77 rows x 17 columns]"
      ]
     },
     "execution_count": 9,
     "metadata": {},
     "output_type": "execute_result"
    }
   ],
   "source": [
    "X"
   ]
  },
  {
   "cell_type": "code",
   "execution_count": 10,
   "metadata": {},
   "outputs": [],
   "source": [
    "# Converting text labels to numbers\n",
    "LABELLING = {'PkC_cs': 5, 'PkC_ss': 4, 'MFB':3, 'MLI':2, 'GoC':1, 'GrC':0}\n",
    "\n",
    "# To do the inverse\n",
    "CORRESPONDENCE = {5: 'PkC_cs', 4: 'PkC_ss', 3 : 'MFB', 2: 'MLI', 1:'GoC', 0:'GrC'}\n",
    "\n",
    "y.replace(to_replace = LABELLING, inplace = True)"
   ]
  },
  {
   "cell_type": "code",
   "execution_count": 11,
   "metadata": {},
   "outputs": [
    {
     "data": {
      "text/plain": [
       "1    25\n",
       "4    21\n",
       "5    11\n",
       "3     9\n",
       "0     6\n",
       "2     5\n",
       "Name: label, dtype: int64"
      ]
     },
     "execution_count": 11,
     "metadata": {},
     "output_type": "execute_result"
    }
   ],
   "source": [
    "y.value_counts()"
   ]
  },
  {
   "cell_type": "markdown",
   "metadata": {},
   "source": [
    "# Random forest"
   ]
  },
  {
   "cell_type": "code",
   "execution_count": 12,
   "metadata": {},
   "outputs": [],
   "source": [
    "best_params = optuna.load_study(\"random-forest-feat-eng\", f\"sqlite:///{PATH}/random-forest-feat-eng.db\").best_params"
   ]
  },
  {
   "cell_type": "code",
   "execution_count": 13,
   "metadata": {},
   "outputs": [],
   "source": [
    "N_LOOS = 50"
   ]
  },
  {
   "cell_type": "code",
   "execution_count": 14,
   "metadata": {},
   "outputs": [
    {
     "data": {
      "application/vnd.jupyter.widget-view+json": {
       "model_id": "7f73fbe2cfad4b80a0b9f251e49ad64d",
       "version_major": 2,
       "version_minor": 0
      },
      "text/plain": [
       "Random Forest runs:   0%|          | 0/50 [00:00<?, ?it/s]"
      ]
     },
     "metadata": {},
     "output_type": "display_data"
    },
    {
     "data": {
      "application/vnd.jupyter.widget-view+json": {
       "model_id": "a5f72f02ac4243d68aea34f666ae01ac",
       "version_major": 2,
       "version_minor": 0
      },
      "text/plain": [
       "Cross-validating:   0%|          | 0/77 [00:00<?, ?it/s]"
      ]
     },
     "metadata": {},
     "output_type": "display_data"
    },
    {
     "data": {
      "application/vnd.jupyter.widget-view+json": {
       "model_id": "d36461c5fea84176bee309f76e36d716",
       "version_major": 2,
       "version_minor": 0
      },
      "text/plain": [
       "Cross-validating:   0%|          | 0/77 [00:00<?, ?it/s]"
      ]
     },
     "metadata": {},
     "output_type": "display_data"
    },
    {
     "data": {
      "application/vnd.jupyter.widget-view+json": {
       "model_id": "0b054954ee7f46ef963450531fe2b31d",
       "version_major": 2,
       "version_minor": 0
      },
      "text/plain": [
       "Cross-validating:   0%|          | 0/77 [00:00<?, ?it/s]"
      ]
     },
     "metadata": {},
     "output_type": "display_data"
    },
    {
     "data": {
      "application/vnd.jupyter.widget-view+json": {
       "model_id": "61a957095c5d4f57b8d57808521eb808",
       "version_major": 2,
       "version_minor": 0
      },
      "text/plain": [
       "Cross-validating:   0%|          | 0/77 [00:00<?, ?it/s]"
      ]
     },
     "metadata": {},
     "output_type": "display_data"
    },
    {
     "data": {
      "application/vnd.jupyter.widget-view+json": {
       "model_id": "dbef5bb6057c4ec19c957de820ada91b",
       "version_major": 2,
       "version_minor": 0
      },
      "text/plain": [
       "Cross-validating:   0%|          | 0/77 [00:00<?, ?it/s]"
      ]
     },
     "metadata": {},
     "output_type": "display_data"
    },
    {
     "data": {
      "application/vnd.jupyter.widget-view+json": {
       "model_id": "0eebc263d66c45bb976b16e11270d81a",
       "version_major": 2,
       "version_minor": 0
      },
      "text/plain": [
       "Cross-validating:   0%|          | 0/77 [00:00<?, ?it/s]"
      ]
     },
     "metadata": {},
     "output_type": "display_data"
    },
    {
     "data": {
      "application/vnd.jupyter.widget-view+json": {
       "model_id": "08411a749c684f52a24f622d4e66eb61",
       "version_major": 2,
       "version_minor": 0
      },
      "text/plain": [
       "Cross-validating:   0%|          | 0/77 [00:00<?, ?it/s]"
      ]
     },
     "metadata": {},
     "output_type": "display_data"
    },
    {
     "data": {
      "application/vnd.jupyter.widget-view+json": {
       "model_id": "ce7347a6e58f47a8a883c289b6f01ed8",
       "version_major": 2,
       "version_minor": 0
      },
      "text/plain": [
       "Cross-validating:   0%|          | 0/77 [00:00<?, ?it/s]"
      ]
     },
     "metadata": {},
     "output_type": "display_data"
    },
    {
     "data": {
      "application/vnd.jupyter.widget-view+json": {
       "model_id": "f311e8feb2d74372a8fc7fb82154aa1b",
       "version_major": 2,
       "version_minor": 0
      },
      "text/plain": [
       "Cross-validating:   0%|          | 0/77 [00:00<?, ?it/s]"
      ]
     },
     "metadata": {},
     "output_type": "display_data"
    },
    {
     "data": {
      "application/vnd.jupyter.widget-view+json": {
       "model_id": "5bf01b56df0b45bbbbd0688e0a6804b5",
       "version_major": 2,
       "version_minor": 0
      },
      "text/plain": [
       "Cross-validating:   0%|          | 0/77 [00:00<?, ?it/s]"
      ]
     },
     "metadata": {},
     "output_type": "display_data"
    },
    {
     "data": {
      "application/vnd.jupyter.widget-view+json": {
       "model_id": "b37bb513890a486e995af9859b168deb",
       "version_major": 2,
       "version_minor": 0
      },
      "text/plain": [
       "Cross-validating:   0%|          | 0/77 [00:00<?, ?it/s]"
      ]
     },
     "metadata": {},
     "output_type": "display_data"
    },
    {
     "data": {
      "application/vnd.jupyter.widget-view+json": {
       "model_id": "61a713eda7fd47e782c6fa654bc297ce",
       "version_major": 2,
       "version_minor": 0
      },
      "text/plain": [
       "Cross-validating:   0%|          | 0/77 [00:00<?, ?it/s]"
      ]
     },
     "metadata": {},
     "output_type": "display_data"
    },
    {
     "data": {
      "application/vnd.jupyter.widget-view+json": {
       "model_id": "e665ad9c46194703898f9099c1a6b547",
       "version_major": 2,
       "version_minor": 0
      },
      "text/plain": [
       "Cross-validating:   0%|          | 0/77 [00:00<?, ?it/s]"
      ]
     },
     "metadata": {},
     "output_type": "display_data"
    },
    {
     "data": {
      "application/vnd.jupyter.widget-view+json": {
       "model_id": "4a73ff7c207042fba0daf77f383704a6",
       "version_major": 2,
       "version_minor": 0
      },
      "text/plain": [
       "Cross-validating:   0%|          | 0/77 [00:00<?, ?it/s]"
      ]
     },
     "metadata": {},
     "output_type": "display_data"
    },
    {
     "data": {
      "application/vnd.jupyter.widget-view+json": {
       "model_id": "4437ac5410054ab3987f8589a927904a",
       "version_major": 2,
       "version_minor": 0
      },
      "text/plain": [
       "Cross-validating:   0%|          | 0/77 [00:00<?, ?it/s]"
      ]
     },
     "metadata": {},
     "output_type": "display_data"
    },
    {
     "data": {
      "application/vnd.jupyter.widget-view+json": {
       "model_id": "f5e7ae5767da4f2ca175341fd43b3173",
       "version_major": 2,
       "version_minor": 0
      },
      "text/plain": [
       "Cross-validating:   0%|          | 0/77 [00:00<?, ?it/s]"
      ]
     },
     "metadata": {},
     "output_type": "display_data"
    },
    {
     "data": {
      "application/vnd.jupyter.widget-view+json": {
       "model_id": "7d626d1d7f1c48f78a3d359ead1cdc53",
       "version_major": 2,
       "version_minor": 0
      },
      "text/plain": [
       "Cross-validating:   0%|          | 0/77 [00:00<?, ?it/s]"
      ]
     },
     "metadata": {},
     "output_type": "display_data"
    },
    {
     "data": {
      "application/vnd.jupyter.widget-view+json": {
       "model_id": "56ef55fdfc764fec8c5257884fc0d232",
       "version_major": 2,
       "version_minor": 0
      },
      "text/plain": [
       "Cross-validating:   0%|          | 0/77 [00:00<?, ?it/s]"
      ]
     },
     "metadata": {},
     "output_type": "display_data"
    },
    {
     "data": {
      "application/vnd.jupyter.widget-view+json": {
       "model_id": "c0ae230905c948cc9b77e0cf28d70644",
       "version_major": 2,
       "version_minor": 0
      },
      "text/plain": [
       "Cross-validating:   0%|          | 0/77 [00:00<?, ?it/s]"
      ]
     },
     "metadata": {},
     "output_type": "display_data"
    },
    {
     "data": {
      "application/vnd.jupyter.widget-view+json": {
       "model_id": "31b4f2f25e61461ea176f849d5b2d5ea",
       "version_major": 2,
       "version_minor": 0
      },
      "text/plain": [
       "Cross-validating:   0%|          | 0/77 [00:00<?, ?it/s]"
      ]
     },
     "metadata": {},
     "output_type": "display_data"
    },
    {
     "data": {
      "application/vnd.jupyter.widget-view+json": {
       "model_id": "b847fa7af4c24315b628a8bc06b08311",
       "version_major": 2,
       "version_minor": 0
      },
      "text/plain": [
       "Cross-validating:   0%|          | 0/77 [00:00<?, ?it/s]"
      ]
     },
     "metadata": {},
     "output_type": "display_data"
    },
    {
     "data": {
      "application/vnd.jupyter.widget-view+json": {
       "model_id": "dd0dd38af624433996a0c05314c003fe",
       "version_major": 2,
       "version_minor": 0
      },
      "text/plain": [
       "Cross-validating:   0%|          | 0/77 [00:00<?, ?it/s]"
      ]
     },
     "metadata": {},
     "output_type": "display_data"
    },
    {
     "data": {
      "application/vnd.jupyter.widget-view+json": {
       "model_id": "7487d924ce9a424699d9c181decefd88",
       "version_major": 2,
       "version_minor": 0
      },
      "text/plain": [
       "Cross-validating:   0%|          | 0/77 [00:00<?, ?it/s]"
      ]
     },
     "metadata": {},
     "output_type": "display_data"
    },
    {
     "data": {
      "application/vnd.jupyter.widget-view+json": {
       "model_id": "21d6404a98b643d681896283db28b34a",
       "version_major": 2,
       "version_minor": 0
      },
      "text/plain": [
       "Cross-validating:   0%|          | 0/77 [00:00<?, ?it/s]"
      ]
     },
     "metadata": {},
     "output_type": "display_data"
    },
    {
     "data": {
      "application/vnd.jupyter.widget-view+json": {
       "model_id": "243215a7b2a946b88b813dd2a2b4baf8",
       "version_major": 2,
       "version_minor": 0
      },
      "text/plain": [
       "Cross-validating:   0%|          | 0/77 [00:00<?, ?it/s]"
      ]
     },
     "metadata": {},
     "output_type": "display_data"
    },
    {
     "data": {
      "application/vnd.jupyter.widget-view+json": {
       "model_id": "92252916239e4398aab7b9c255a9a0d6",
       "version_major": 2,
       "version_minor": 0
      },
      "text/plain": [
       "Cross-validating:   0%|          | 0/77 [00:00<?, ?it/s]"
      ]
     },
     "metadata": {},
     "output_type": "display_data"
    },
    {
     "data": {
      "application/vnd.jupyter.widget-view+json": {
       "model_id": "fd65412b50de400bad3b73ae12b88929",
       "version_major": 2,
       "version_minor": 0
      },
      "text/plain": [
       "Cross-validating:   0%|          | 0/77 [00:00<?, ?it/s]"
      ]
     },
     "metadata": {},
     "output_type": "display_data"
    },
    {
     "data": {
      "application/vnd.jupyter.widget-view+json": {
       "model_id": "3968802e785947daa6b76b8e03532dc7",
       "version_major": 2,
       "version_minor": 0
      },
      "text/plain": [
       "Cross-validating:   0%|          | 0/77 [00:00<?, ?it/s]"
      ]
     },
     "metadata": {},
     "output_type": "display_data"
    },
    {
     "data": {
      "application/vnd.jupyter.widget-view+json": {
       "model_id": "8c2c1a322be24a30bc30399aff75d0fa",
       "version_major": 2,
       "version_minor": 0
      },
      "text/plain": [
       "Cross-validating:   0%|          | 0/77 [00:00<?, ?it/s]"
      ]
     },
     "metadata": {},
     "output_type": "display_data"
    },
    {
     "data": {
      "application/vnd.jupyter.widget-view+json": {
       "model_id": "c4c7d41113a54122a1ee6a5f23c1b299",
       "version_major": 2,
       "version_minor": 0
      },
      "text/plain": [
       "Cross-validating:   0%|          | 0/77 [00:00<?, ?it/s]"
      ]
     },
     "metadata": {},
     "output_type": "display_data"
    },
    {
     "data": {
      "application/vnd.jupyter.widget-view+json": {
       "model_id": "6d9631a94cf64b85828f0e36c1776fc5",
       "version_major": 2,
       "version_minor": 0
      },
      "text/plain": [
       "Cross-validating:   0%|          | 0/77 [00:00<?, ?it/s]"
      ]
     },
     "metadata": {},
     "output_type": "display_data"
    },
    {
     "data": {
      "application/vnd.jupyter.widget-view+json": {
       "model_id": "e5891bb9c1b240538c3ef0cd09ff3671",
       "version_major": 2,
       "version_minor": 0
      },
      "text/plain": [
       "Cross-validating:   0%|          | 0/77 [00:00<?, ?it/s]"
      ]
     },
     "metadata": {},
     "output_type": "display_data"
    },
    {
     "data": {
      "application/vnd.jupyter.widget-view+json": {
       "model_id": "2d8869bc6ef14a4a9b202cce6d3843f1",
       "version_major": 2,
       "version_minor": 0
      },
      "text/plain": [
       "Cross-validating:   0%|          | 0/77 [00:00<?, ?it/s]"
      ]
     },
     "metadata": {},
     "output_type": "display_data"
    },
    {
     "data": {
      "application/vnd.jupyter.widget-view+json": {
       "model_id": "d017f42ca9444965a6d1a11a72ccabea",
       "version_major": 2,
       "version_minor": 0
      },
      "text/plain": [
       "Cross-validating:   0%|          | 0/77 [00:00<?, ?it/s]"
      ]
     },
     "metadata": {},
     "output_type": "display_data"
    },
    {
     "data": {
      "application/vnd.jupyter.widget-view+json": {
       "model_id": "793229afcc98449a964b4b63c6b865dd",
       "version_major": 2,
       "version_minor": 0
      },
      "text/plain": [
       "Cross-validating:   0%|          | 0/77 [00:00<?, ?it/s]"
      ]
     },
     "metadata": {},
     "output_type": "display_data"
    },
    {
     "data": {
      "application/vnd.jupyter.widget-view+json": {
       "model_id": "f05b9aa905d74026b9215aa7f7851ad5",
       "version_major": 2,
       "version_minor": 0
      },
      "text/plain": [
       "Cross-validating:   0%|          | 0/77 [00:00<?, ?it/s]"
      ]
     },
     "metadata": {},
     "output_type": "display_data"
    },
    {
     "data": {
      "application/vnd.jupyter.widget-view+json": {
       "model_id": "56aab72ac90e452db37754b8026bce6d",
       "version_major": 2,
       "version_minor": 0
      },
      "text/plain": [
       "Cross-validating:   0%|          | 0/77 [00:00<?, ?it/s]"
      ]
     },
     "metadata": {},
     "output_type": "display_data"
    },
    {
     "data": {
      "application/vnd.jupyter.widget-view+json": {
       "model_id": "373da90600244fb58e306c2b4d088218",
       "version_major": 2,
       "version_minor": 0
      },
      "text/plain": [
       "Cross-validating:   0%|          | 0/77 [00:00<?, ?it/s]"
      ]
     },
     "metadata": {},
     "output_type": "display_data"
    },
    {
     "data": {
      "application/vnd.jupyter.widget-view+json": {
       "model_id": "cc2312cacecd4948b3db7fb73348ecaf",
       "version_major": 2,
       "version_minor": 0
      },
      "text/plain": [
       "Cross-validating:   0%|          | 0/77 [00:00<?, ?it/s]"
      ]
     },
     "metadata": {},
     "output_type": "display_data"
    },
    {
     "data": {
      "application/vnd.jupyter.widget-view+json": {
       "model_id": "023bb9ded71e4b31b381394e4d205011",
       "version_major": 2,
       "version_minor": 0
      },
      "text/plain": [
       "Cross-validating:   0%|          | 0/77 [00:00<?, ?it/s]"
      ]
     },
     "metadata": {},
     "output_type": "display_data"
    },
    {
     "data": {
      "application/vnd.jupyter.widget-view+json": {
       "model_id": "ceaf05408f9d45a192d811e46bbc0845",
       "version_major": 2,
       "version_minor": 0
      },
      "text/plain": [
       "Cross-validating:   0%|          | 0/77 [00:00<?, ?it/s]"
      ]
     },
     "metadata": {},
     "output_type": "display_data"
    },
    {
     "data": {
      "application/vnd.jupyter.widget-view+json": {
       "model_id": "3e66dcc161d040c98ef0222143caff68",
       "version_major": 2,
       "version_minor": 0
      },
      "text/plain": [
       "Cross-validating:   0%|          | 0/77 [00:00<?, ?it/s]"
      ]
     },
     "metadata": {},
     "output_type": "display_data"
    },
    {
     "data": {
      "application/vnd.jupyter.widget-view+json": {
       "model_id": "1d377b962e594c8b9e6ebd9e169dcdcd",
       "version_major": 2,
       "version_minor": 0
      },
      "text/plain": [
       "Cross-validating:   0%|          | 0/77 [00:00<?, ?it/s]"
      ]
     },
     "metadata": {},
     "output_type": "display_data"
    },
    {
     "data": {
      "application/vnd.jupyter.widget-view+json": {
       "model_id": "94591079345f484a94436a735073264e",
       "version_major": 2,
       "version_minor": 0
      },
      "text/plain": [
       "Cross-validating:   0%|          | 0/77 [00:00<?, ?it/s]"
      ]
     },
     "metadata": {},
     "output_type": "display_data"
    },
    {
     "data": {
      "application/vnd.jupyter.widget-view+json": {
       "model_id": "54fd2cc165be48dab73ec2d43c46a147",
       "version_major": 2,
       "version_minor": 0
      },
      "text/plain": [
       "Cross-validating:   0%|          | 0/77 [00:00<?, ?it/s]"
      ]
     },
     "metadata": {},
     "output_type": "display_data"
    },
    {
     "data": {
      "application/vnd.jupyter.widget-view+json": {
       "model_id": "cdb9da7d87084ee0ae4d09f40619221a",
       "version_major": 2,
       "version_minor": 0
      },
      "text/plain": [
       "Cross-validating:   0%|          | 0/77 [00:00<?, ?it/s]"
      ]
     },
     "metadata": {},
     "output_type": "display_data"
    },
    {
     "data": {
      "application/vnd.jupyter.widget-view+json": {
       "model_id": "1f2c9ad71d56458392ae2eeb438f0ad2",
       "version_major": 2,
       "version_minor": 0
      },
      "text/plain": [
       "Cross-validating:   0%|          | 0/77 [00:00<?, ?it/s]"
      ]
     },
     "metadata": {},
     "output_type": "display_data"
    },
    {
     "data": {
      "application/vnd.jupyter.widget-view+json": {
       "model_id": "9ebd1f225b634e8f975dd6e863d45bb0",
       "version_major": 2,
       "version_minor": 0
      },
      "text/plain": [
       "Cross-validating:   0%|          | 0/77 [00:00<?, ?it/s]"
      ]
     },
     "metadata": {},
     "output_type": "display_data"
    },
    {
     "data": {
      "application/vnd.jupyter.widget-view+json": {
       "model_id": "8577d768970d409c9d623d7ffc2864b1",
       "version_major": 2,
       "version_minor": 0
      },
      "text/plain": [
       "Cross-validating:   0%|          | 0/77 [00:00<?, ?it/s]"
      ]
     },
     "metadata": {},
     "output_type": "display_data"
    },
    {
     "data": {
      "application/vnd.jupyter.widget-view+json": {
       "model_id": "ceca29d98b0e475198c3fa1495c64e6c",
       "version_major": 2,
       "version_minor": 0
      },
      "text/plain": [
       "Cross-validating:   0%|          | 0/77 [00:00<?, ?it/s]"
      ]
     },
     "metadata": {},
     "output_type": "display_data"
    },
    {
     "name": "stdout",
     "output_type": "stream",
     "text": [
      "Mean train accuracy is 0.975 while LOO accuracy is 0.584\n",
      "Dummy LOO accuracy is 0.182 \n",
      "Mean LOO f1 score across random forests is 0.441\n"
     ]
    }
   ],
   "source": [
    "kfold = LeaveOneOut()\n",
    "\n",
    "f1_scores = []\n",
    "confusions_list = []\n",
    "\n",
    "for loo in tqdm(range(N_LOOS), position = 0, leave = True, desc = \"Random Forest runs\"):\n",
    "    \n",
    "    train_accuracies = []\n",
    "    true_targets = []\n",
    "    model_pred = []\n",
    "    dummy_pred = []\n",
    "    seed = np.random.choice(2**32)\n",
    "    for fold, (train_idx, val_idx) in tqdm(\n",
    "        enumerate(kfold.split(X, y)),\n",
    "        leave=False,\n",
    "        position=1,\n",
    "        desc=\"Cross-validating\",\n",
    "        total=len(X),\n",
    "    ):\n",
    "\n",
    "        X_train = X.iloc[train_idx]\n",
    "        y_train = y.iloc[train_idx]\n",
    "        X_test = X.iloc[val_idx]\n",
    "        y_test = y.iloc[val_idx]\n",
    "\n",
    "        oversample = RandomOverSampler(random_state=seed)\n",
    "\n",
    "        X_big, y_big = oversample.fit_resample(X_train, y_train)\n",
    "\n",
    "        model = RandomForestClassifier(**best_params, random_state=seed)\n",
    "\n",
    "        # fit the model on the data\n",
    "        model.fit(X_big, y_big)\n",
    "        pred = model.predict(X_test)\n",
    "        train_accuracies.append(model.score(X_train, y_train))\n",
    "\n",
    "        true_targets.append(y_test)\n",
    "        model_pred.append(pred)\n",
    "        \n",
    "\n",
    "        ####### Now doing something similar with a Dummy Classifier so that we can plot a baseline #########\n",
    "        dummy = DummyClassifier(strategy=\"uniform\")\n",
    "        # fit the model on the data\n",
    "        dummy.fit(X_big, y_big)\n",
    "        pred = dummy.predict(X_test)\n",
    "\n",
    "        dummy_pred.append(pred)\n",
    "        \n",
    "    confusion = confusion_matrix(true_targets, model_pred, labels=np.arange(0, 6))\n",
    "    confusions_list.append(confusion)\n",
    "    f1 = f1_score(true_targets, model_pred, average='macro')\n",
    "    f1_scores.append(f1)\n",
    "\n",
    "\n",
    "\n",
    "mean_train = np.array(train_accuracies).mean()\n",
    "mean_validation = (np.array(true_targets)==np.array(model_pred)).mean()\n",
    "mean_dummy = (np.array(true_targets)==np.array(dummy_pred)).mean()\n",
    "print(\n",
    "f\"Mean train accuracy is {mean_train:.3f} while LOO accuracy is {mean_validation:.3f}\"\n",
    ")\n",
    "print(f\"Dummy LOO accuracy is {mean_dummy:.3f} \")\n",
    "print(f\"Mean LOO f1 score across random forests is {np.array(f1_scores).mean():.3f}\")\n"
   ]
  },
  {
   "cell_type": "code",
   "execution_count": 15,
   "metadata": {},
   "outputs": [
    {
     "data": {
      "text/plain": [
       "(77, 17)"
      ]
     },
     "execution_count": 15,
     "metadata": {},
     "output_type": "execute_result"
    }
   ],
   "source": [
    "X.to_numpy().shape"
   ]
  },
  {
   "cell_type": "code",
   "execution_count": 16,
   "metadata": {},
   "outputs": [
    {
     "data": {
      "text/plain": [
       "0.5020185488270595"
      ]
     },
     "execution_count": 16,
     "metadata": {},
     "output_type": "execute_result"
    }
   ],
   "source": [
    "max(f1_scores)"
   ]
  },
  {
   "cell_type": "code",
   "execution_count": 17,
   "metadata": {},
   "outputs": [
    {
     "data": {
      "text/plain": [
       "0.005988180269287484"
      ]
     },
     "execution_count": 17,
     "metadata": {},
     "output_type": "execute_result"
    }
   ],
   "source": [
    "np.array(train_accuracies).std()"
   ]
  },
  {
   "cell_type": "code",
   "execution_count": 19,
   "metadata": {},
   "outputs": [
    {
     "data": {
      "text/plain": [
       "0.031853166977491056"
      ]
     },
     "execution_count": 19,
     "metadata": {},
     "output_type": "execute_result"
    }
   ],
   "source": [
    "np.array(f1_scores).std()"
   ]
  },
  {
   "cell_type": "markdown",
   "metadata": {},
   "source": [
    "# Accuracy plots"
   ]
  },
  {
   "cell_type": "markdown",
   "metadata": {},
   "source": [
    "# Confusion matrix"
   ]
  },
  {
   "cell_type": "code",
   "execution_count": 20,
   "metadata": {},
   "outputs": [],
   "source": [
    "mean_confusion = confusion_matrix(true_targets, model_pred, labels=np.arange(0, len(LABELLING.keys())))\n",
    "mean_confusion = mean_confusion / (np.sum(mean_confusion, axis = 0)) * 100 # normalising and showing percentage\n",
    "mask = ~(np.eye(mean_confusion.shape[0]).astype(bool))"
   ]
  },
  {
   "cell_type": "code",
   "execution_count": 21,
   "metadata": {},
   "outputs": [
    {
     "data": {
      "image/png": "[encoded data removed]",
      "text/plain": [
       "<Figure size 720x648 with 2 Axes>"
      ]
     },
     "metadata": {
      "image/png": {
       "height": 521,
       "width": 574
      },
      "needs_background": "light"
     },
     "output_type": "display_data"
    }
   ],
   "source": [
    "# Confusion matrix\n",
    "import seaborn as sns\n",
    "import matplotlib\n",
    "matplotlib.rcParams['pdf.fonttype'] = 42 # necessary to make the text editable\n",
    "matplotlib.rcParams['ps.fonttype'] = 42\n",
    "\n",
    "fig, ax = plt.subplots(figsize=(10, 9))\n",
    "ax = sns.heatmap(\n",
    "    mean_confusion,\n",
    "    annot=mean_confusion,\n",
    "    cmap=\"viridis\",\n",
    "    cbar=False,\n",
    "    mask=mask,\n",
    "    linewidths=10,\n",
    "    linecolor=\"black\",\n",
    "    square=True,\n",
    "    vmin=0,\n",
    "    vmax=100,\n",
    "    annot_kws={\"fontsize\": 12, \"fontweight\": \"bold\"},\n",
    ")\n",
    "ax = sns.heatmap(\n",
    "    mean_confusion,\n",
    "    annot=mean_confusion,\n",
    "    cmap=\"viridis\",\n",
    "    square=True,\n",
    "    vmin=0,\n",
    "    vmax=100,\n",
    "    mask=~mask,\n",
    "    linewidths=1,\n",
    "    linecolor=\"black\",\n",
    "    annot_kws={\"fontsize\": 11},\n",
    ")\n",
    "x_labels = [int(ax.get_xticklabels()[i].get_text()) for i in range(6)]\n",
    "y_labels = [int(ax.get_yticklabels()[i].get_text()) for i in range(6)]\n",
    "\n",
    "ax.set_xticklabels(\n",
    "    pd.Series(x_labels).replace(to_replace=CORRESPONDENCE).to_numpy(),\n",
    "    fontsize=12,\n",
    ")\n",
    "ax.set_yticklabels(\n",
    "    pd.Series(y_labels).replace(to_replace=CORRESPONDENCE).to_numpy(),\n",
    "    fontsize=12,\n",
    ")\n",
    "ax.set_title(\"Mean confusion matrix\", fontsize=15, fontweight=\"bold\")\n",
    "ax.set_xlabel(\"True label\", fontsize=12)\n",
    "ax.set_ylabel(\"Predicted label\", fontsize=12);\n"
   ]
  },
  {
   "cell_type": "code",
   "execution_count": null,
   "metadata": {},
   "outputs": [],
   "source": []
  },
  {
   "cell_type": "code",
   "execution_count": null,
   "metadata": {},
   "outputs": [],
   "source": []
  }
 ],
 "metadata": {
  "kernelspec": {
   "display_name": "Python 3.7.13 ('npyx')",
   "language": "python",
   "name": "python3"
  },
  "language_info": {
   "codemirror_mode": {
    "name": "ipython",
    "version": 3
   },
   "file_extension": ".py",
   "mimetype": "text/x-python",
   "name": "python",
   "nbconvert_exporter": "python",
   "pygments_lexer": "ipython3",
   "version": "3.7.13"
  },
  "orig_nbformat": 4,
  "vscode": {
   "interpreter": {
    "hash": "743d2decec6617858aa5d9734ccd05c067783e7d57d927118b59dc2a82c0065b"
   }
  }
 },
 "nbformat": 4,
 "nbformat_minor": 2
}
